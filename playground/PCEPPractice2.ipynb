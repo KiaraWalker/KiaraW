{
 "cells": [
  {
   "cell_type": "code",
   "execution_count": 11,
   "id": "f64b1fd0",
   "metadata": {},
   "outputs": [],
   "source": [
    "def is_year_leap(year): #one parameter\n",
    "\n",
    "    is_leap=False #assuming False until we prove it is True\n",
    "    \n",
    "    if year % 4 == 0:\n",
    "        \n",
    "        if year % 100 == 0:\n",
    "            \n",
    "            if year % 400 == 0:\n",
    "                is_leap=True\n",
    "            \n",
    "        else:\n",
    "            is_leap=True\n",
    "                \n",
    "    return is_leap"
   ]
  },
  {
   "cell_type": "code",
   "execution_count": 12,
   "id": "0fb07012",
   "metadata": {},
   "outputs": [
    {
     "name": "stdout",
     "output_type": "stream",
     "text": [
      "True\n",
      "False\n",
      "True\n"
     ]
    }
   ],
   "source": [
    "print (is_year_leap(2000))\n",
    "print (is_year_leap(1999))\n",
    "print (is_year_leap(2016))"
   ]
  },
  {
   "cell_type": "code",
   "execution_count": 13,
   "id": "81e38b8e",
   "metadata": {},
   "outputs": [],
   "source": [
    "def test_is_year_leap():\n",
    "    \n",
    "    assert is_year_leap(2016) \n",
    "    \n",
    "    assert is_year_leap(2000) #if True pass #If False Fail\n",
    "    #This test should confirm that our function returns True for the year 2000\n",
    "    \n",
    "    assert not is_year_leap(1999)"
   ]
  },
  {
   "cell_type": "code",
   "execution_count": null,
   "id": "99219acc",
   "metadata": {},
   "outputs": [],
   "source": []
  }
 ],
 "metadata": {
  "kernelspec": {
   "display_name": "Python 3 (ipykernel)",
   "language": "python",
   "name": "python3"
  },
  "language_info": {
   "codemirror_mode": {
    "name": "ipython",
    "version": 3
   },
   "file_extension": ".py",
   "mimetype": "text/x-python",
   "name": "python",
   "nbconvert_exporter": "python",
   "pygments_lexer": "ipython3",
   "version": "3.9.7"
  }
 },
 "nbformat": 4,
 "nbformat_minor": 5
}
